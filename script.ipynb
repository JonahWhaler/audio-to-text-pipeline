{
 "cells": [
  {
   "cell_type": "markdown",
   "metadata": {},
   "source": [
    "# Dependencies"
   ]
  },
  {
   "cell_type": "code",
   "execution_count": null,
   "metadata": {},
   "outputs": [],
   "source": [
    "import os\n",
    "from dotenv import load_dotenv\n",
    "from llm_agent_toolkit.transcriber import TranscriptionConfig\n",
    "from llm_agent_toolkit.transcriber.open_ai import OpenAITranscriber\n",
    "\n",
    "load_dotenv()"
   ]
  },
  {
   "cell_type": "markdown",
   "metadata": {},
   "source": [
    "## Input-Output"
   ]
  },
  {
   "cell_type": "code",
   "execution_count": 2,
   "metadata": {},
   "outputs": [],
   "source": [
    "AUDIO_FILES = [\"./audio/part_2.mp3\"] # \"./audio/part_0.mp3\", \"./audio/part_2.mp3\"\n",
    "OUTPUT_DIRECTORY = \"./output\""
   ]
  },
  {
   "cell_type": "markdown",
   "metadata": {},
   "source": [
    "# Execution"
   ]
  },
  {
   "cell_type": "code",
   "execution_count": null,
   "metadata": {},
   "outputs": [],
   "source": [
    "whisper_config = TranscriptionConfig(\n",
    "    name=\"whisper-1\", temperature=0.3, response_format=\"text\"\n",
    ")\n",
    "agent = OpenAITranscriber(config=whisper_config)\n",
    "\n",
    "for audio_file in AUDIO_FILES:\n",
    "    basename = os.path.basename(audio_file)\n",
    "    name_wo_ext = os.path.splitext(basename)[0]\n",
    "    # One audio file can be separated into multiple chunks\n",
    "    # and each chunk will be transcribed separately\n",
    "    export_directory = os.path.join(OUTPUT_DIRECTORY, name_wo_ext)\n",
    "    os.makedirs(export_directory, exist_ok=True)\n",
    "\n",
    "    responses = agent.transcribe(\n",
    "        prompt=\"This is a sermon in Mandarin.\",\n",
    "        filepath=audio_file,\n",
    "        tmp_directory=export_directory,\n",
    "    )\n",
    "\n",
    "    for response in responses:\n",
    "        print(f\">> {response['content']}\")"
   ]
  },
  {
   "cell_type": "markdown",
   "metadata": {},
   "source": [
    "# View Output"
   ]
  },
  {
   "cell_type": "code",
   "execution_count": null,
   "metadata": {},
   "outputs": [],
   "source": [
    "folders = os.listdir(OUTPUT_DIRECTORY)\n",
    "for folder in folders:\n",
    "    files = os.listdir(os.path.join(OUTPUT_DIRECTORY, folder))\n",
    "    for file in files:\n",
    "        ext = os.path.splitext(file)[1]\n",
    "        if ext != \".md\":\n",
    "            continue\n",
    "        \n",
    "        filepath = os.path.join(OUTPUT_DIRECTORY, folder, file)\n",
    "        print(f\"Filepath: {filepath}\")\n",
    "        with open(filepath, \"r\", encoding=\"utf-8\") as f:\n",
    "            line = f.read()\n",
    "            print(f\">>>> {line[:80]}\")\n",
    "        print(\"\\n\")"
   ]
  }
 ],
 "metadata": {
  "kernelspec": {
   "display_name": "venv",
   "language": "python",
   "name": "python3"
  },
  "language_info": {
   "codemirror_mode": {
    "name": "ipython",
    "version": 3
   },
   "file_extension": ".py",
   "mimetype": "text/x-python",
   "name": "python",
   "nbconvert_exporter": "python",
   "pygments_lexer": "ipython3",
   "version": "3.10.12"
  }
 },
 "nbformat": 4,
 "nbformat_minor": 2
}
